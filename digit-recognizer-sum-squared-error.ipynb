{
 "cells": [
  {
   "cell_type": "markdown",
   "id": "9d9cecd4",
   "metadata": {
    "papermill": {
     "duration": 0.007673,
     "end_time": "2023-10-05T11:30:44.343695",
     "exception": false,
     "start_time": "2023-10-05T11:30:44.336022",
     "status": "completed"
    },
    "tags": []
   },
   "source": [
    "# Basic strategy: \n",
    "## Training:\n",
    "   For each digit 0-9, find the average pixel value at each pixel location in the 28 * 28 greyscale image.\n",
    "   This gives the \"average\" image of what a typical image of a 0, 1, 2, ..., and 9 digit image looks like.\n",
    "## Infering:\n",
    "   Using the test image, find the average digit 'template' that has the smallest sum squarred error.\n",
    "   So use the sum squared distance between the test image and the \"average\" digit image. Find the square of the difference between the test image and each \"average\" image 0-9. Choose the \"average\" image with the smallest sum squared error, and use it's digit value.\n"
   ]
  },
  {
   "cell_type": "code",
   "execution_count": 1,
   "id": "fec0f4c0",
   "metadata": {
    "_cell_guid": "b1076dfc-b9ad-4769-8c92-a6c4dae69d19",
    "_uuid": "8f2839f25d086af736a60e9eeb907d3b93b6e0e5",
    "execution": {
     "iopub.execute_input": "2023-10-05T11:30:44.356687Z",
     "iopub.status.busy": "2023-10-05T11:30:44.355658Z",
     "iopub.status.idle": "2023-10-05T11:30:44.895951Z",
     "shell.execute_reply": "2023-10-05T11:30:44.892864Z"
    },
    "papermill": {
     "duration": 0.549963,
     "end_time": "2023-10-05T11:30:44.898555",
     "exception": false,
     "start_time": "2023-10-05T11:30:44.348592",
     "status": "completed"
    },
    "tags": []
   },
   "outputs": [
    {
     "name": "stdout",
     "output_type": "stream",
     "text": [
      "['sample_submission.csv', 'train.csv', 'test.csv']\n"
     ]
    }
   ],
   "source": [
    "import numpy as np # linear algebra\n",
    "import pandas as pd # data processing, CSV file I/O (e.g. pd.read_csv)\n",
    "import matplotlib.pyplot as plt # image display\n",
    "\n",
    "import ipywidgets as widgets\n",
    "\n",
    "# For explicitly displaying widgets\n",
    "from IPython.display import display, clear_output\n",
    "# Input data files are available in the '../input/' directory.\n",
    "# For example, running this (by clicking run or pressing Shift+Enter) will list the files in the input directory\n",
    "\n",
    "import os\n",
    "print(os.listdir('../input'))\n",
    "\n",
    "# Any results you write to the current directory are saved as output."
   ]
  },
  {
   "cell_type": "code",
   "execution_count": 2,
   "id": "57f4feee",
   "metadata": {
    "execution": {
     "iopub.execute_input": "2023-10-05T11:30:44.912427Z",
     "iopub.status.busy": "2023-10-05T11:30:44.911624Z",
     "iopub.status.idle": "2023-10-05T11:30:48.833348Z",
     "shell.execute_reply": "2023-10-05T11:30:48.831841Z"
    },
    "papermill": {
     "duration": 3.931626,
     "end_time": "2023-10-05T11:30:48.836319",
     "exception": false,
     "start_time": "2023-10-05T11:30:44.904693",
     "status": "completed"
    },
    "tags": []
   },
   "outputs": [
    {
     "name": "stdout",
     "output_type": "stream",
     "text": [
      "(42000, 785)\n"
     ]
    }
   ],
   "source": [
    "df = pd.read_csv('../input/train.csv')\n",
    "print(df.shape)"
   ]
  },
  {
   "cell_type": "code",
   "execution_count": 3,
   "id": "6fdb1e28",
   "metadata": {
    "execution": {
     "iopub.execute_input": "2023-10-05T11:30:48.850080Z",
     "iopub.status.busy": "2023-10-05T11:30:48.849693Z",
     "iopub.status.idle": "2023-10-05T11:30:48.865927Z",
     "shell.execute_reply": "2023-10-05T11:30:48.864762Z"
    },
    "papermill": {
     "duration": 0.027669,
     "end_time": "2023-10-05T11:30:48.869707",
     "exception": false,
     "start_time": "2023-10-05T11:30:48.842038",
     "status": "completed"
    },
    "tags": []
   },
   "outputs": [
    {
     "data": {
      "application/vnd.jupyter.widget-view+json": {
       "model_id": "3caef39495414a45b454eed141599add",
       "version_major": 2,
       "version_minor": 0
      },
      "text/plain": [
       "IntSlider(value=0, description='Image ID', max=784)"
      ]
     },
     "metadata": {},
     "output_type": "display_data"
    },
    {
     "data": {
      "application/vnd.jupyter.widget-view+json": {
       "model_id": "430ebdb7b3a94d1ea1856e87ebee8447",
       "version_major": 2,
       "version_minor": 0
      },
      "text/plain": [
       "Output()"
      ]
     },
     "metadata": {},
     "output_type": "display_data"
    }
   ],
   "source": [
    "# Slider to view images and their labels\n",
    "\n",
    "image_id_slider = widgets.IntSlider(\n",
    "    min=0,                      # The minimum value\n",
    "    max=df.shape[1] - 1,        # The maximum value\n",
    "    description='Image ID',     # Label\n",
    "    value=0,                    # Default value\n",
    ")\n",
    "\n",
    "image_id_slider_output = widgets.Output()\n",
    "\n",
    "# Display the widget\n",
    "display(image_id_slider, image_id_slider_output)\n",
    "\n",
    "\n",
    "def display_image(image_id: int):\n",
    "    clear_output(wait=True)\n",
    "    print('Image ID: ' + str(image_id) + ', label is: ' + str(df.loc[image_id]['label']))\n",
    "    \n",
    "    # Read the first letter (28 * 28 = 784 pixels) from pandas\n",
    "    # dataframe, excluding the leftmost entry, the label.\n",
    "    # Reshape it into a 28 by 28 pixel image\n",
    "    \n",
    "    image0 = np.array(df.loc[image_id][1:])\n",
    "    image0 = np.reshape(image0, [28, 28])\n",
    "    plt.clf()\n",
    "    plt.imshow(image0, cmap='gray_r')\n",
    "    plt.colorbar()\n",
    "    plt.show()\n",
    "\n",
    "def on_slider_change(change):\n",
    "    with image_id_slider_output:\n",
    "        display_image(change['new'])\n",
    "\n",
    "# image_id_slider.observe(display_image)\n",
    "image_id_slider.observe(on_slider_change, names='value')\n",
    "# display_image(0)\n"
   ]
  },
  {
   "cell_type": "code",
   "execution_count": 4,
   "id": "e7448aa7",
   "metadata": {
    "execution": {
     "iopub.execute_input": "2023-10-05T11:30:48.884189Z",
     "iopub.status.busy": "2023-10-05T11:30:48.883526Z",
     "iopub.status.idle": "2023-10-05T11:30:49.289691Z",
     "shell.execute_reply": "2023-10-05T11:30:49.288524Z"
    },
    "papermill": {
     "duration": 0.416336,
     "end_time": "2023-10-05T11:30:49.292186",
     "exception": false,
     "start_time": "2023-10-05T11:30:48.875850",
     "status": "completed"
    },
    "tags": []
   },
   "outputs": [
    {
     "name": "stdout",
     "output_type": "stream",
     "text": [
      "Image ID: 0, label is: 1\n"
     ]
    },
    {
     "data": {
      "image/png": "[encoded data removed]",
      "text/plain": [
       "<Figure size 640x480 with 2 Axes>"
      ]
     },
     "metadata": {},
     "output_type": "display_data"
    }
   ],
   "source": [
    "# Display image\n",
    "image0 = np.array(df.loc[image_id_slider.value][1:]) # Read the first letter (28 * 28 = 784 pixels) from pandas dataframe (excluding the leftmost entry, the label)\n",
    "image0 = np.reshape(image0, [28, 28]) # Reshape it into a 28 by 28 pixel image\n",
    "plt.imshow(image0, cmap='gray_r')\n",
    "plt.colorbar()\n",
    "\n",
    "print('Image ID: ' + str(image_id_slider.value) + ', label is: ' + str(df.loc[image_id_slider.value]['label']))\n"
   ]
  },
  {
   "cell_type": "code",
   "execution_count": 5,
   "id": "da72ea3c",
   "metadata": {
    "execution": {
     "iopub.execute_input": "2023-10-05T11:30:49.306469Z",
     "iopub.status.busy": "2023-10-05T11:30:49.306048Z",
     "iopub.status.idle": "2023-10-05T11:30:49.574816Z",
     "shell.execute_reply": "2023-10-05T11:30:49.573684Z"
    },
    "papermill": {
     "duration": 0.279524,
     "end_time": "2023-10-05T11:30:49.577981",
     "exception": false,
     "start_time": "2023-10-05T11:30:49.298457",
     "status": "completed"
    },
    "tags": []
   },
   "outputs": [],
   "source": [
    "Y = np.array(df['label'], dtype=np.int64)\n",
    "X = np.array(df.drop(labels = ['label'], axis = 1), dtype=np.int64) "
   ]
  },
  {
   "cell_type": "code",
   "execution_count": 6,
   "id": "0ae6824b",
   "metadata": {
    "execution": {
     "iopub.execute_input": "2023-10-05T11:30:49.592116Z",
     "iopub.status.busy": "2023-10-05T11:30:49.591338Z",
     "iopub.status.idle": "2023-10-05T11:30:49.596499Z",
     "shell.execute_reply": "2023-10-05T11:30:49.595756Z"
    },
    "papermill": {
     "duration": 0.014387,
     "end_time": "2023-10-05T11:30:49.598488",
     "exception": false,
     "start_time": "2023-10-05T11:30:49.584101",
     "status": "completed"
    },
    "tags": []
   },
   "outputs": [],
   "source": [
    "# Calculate the average image pixel values for every digit 0-9. So this would be the sum of all digits corresponsing to a particular category\n",
    "# There are 10 classes (digits 0-9) and each class is 28*28 pixels\n",
    "average_digits = np.zeros((10, 28*28), dtype=np.int64) # Sum (and later average) of all digits of each class\n",
    "count_in_class = np.zeros(10, dtype=np.int64) # Stores a count of how many of each digit occurred"
   ]
  },
  {
   "cell_type": "code",
   "execution_count": 7,
   "id": "030c2a00",
   "metadata": {
    "execution": {
     "iopub.execute_input": "2023-10-05T11:30:49.611538Z",
     "iopub.status.busy": "2023-10-05T11:30:49.610343Z",
     "iopub.status.idle": "2023-10-05T11:30:49.785422Z",
     "shell.execute_reply": "2023-10-05T11:30:49.783806Z"
    },
    "papermill": {
     "duration": 0.18432,
     "end_time": "2023-10-05T11:30:49.788137",
     "exception": false,
     "start_time": "2023-10-05T11:30:49.603817",
     "status": "completed"
    },
    "tags": []
   },
   "outputs": [],
   "source": [
    "# Iterate through each image, and add the image vector to the correct row of the average_digits matrix\n",
    "for x, y in zip(X, Y):\n",
    "    average_digits[y] += x\n",
    "    count_in_class[y] += 1\n",
    "\n",
    "# Calculate average digits\n",
    "for i, count in enumerate(count_in_class):\n",
    "    average_digits[i] = np.float64(average_digits[i]) / np.float64(count)"
   ]
  },
  {
   "cell_type": "code",
   "execution_count": 8,
   "id": "a78b2c83",
   "metadata": {
    "execution": {
     "iopub.execute_input": "2023-10-05T11:30:49.800476Z",
     "iopub.status.busy": "2023-10-05T11:30:49.800024Z",
     "iopub.status.idle": "2023-10-05T11:30:50.914233Z",
     "shell.execute_reply": "2023-10-05T11:30:50.912886Z"
    },
    "papermill": {
     "duration": 1.12361,
     "end_time": "2023-10-05T11:30:50.916987",
     "exception": false,
     "start_time": "2023-10-05T11:30:49.793377",
     "status": "completed"
    },
    "tags": []
   },
   "outputs": [
    {
     "data": {
      "image/png": "[encoded data removed]",
      "text/plain": [
       "<Figure size 640x480 with 10 Axes>"
      ]
     },
     "metadata": {},
     "output_type": "display_data"
    }
   ],
   "source": [
    "# Display average digits\n",
    "for i in range(len(count_in_class)):\n",
    "    plt.subplot(2, 5, i + 1)\n",
    "    plt.imshow(np.reshape(average_digits[i], [28, 28]), cmap='gray_r')"
   ]
  },
  {
   "cell_type": "code",
   "execution_count": 9,
   "id": "1b0c4998",
   "metadata": {
    "execution": {
     "iopub.execute_input": "2023-10-05T11:30:50.935964Z",
     "iopub.status.busy": "2023-10-05T11:30:50.935094Z",
     "iopub.status.idle": "2023-10-05T11:30:53.136768Z",
     "shell.execute_reply": "2023-10-05T11:30:53.135115Z"
    },
    "papermill": {
     "duration": 2.216219,
     "end_time": "2023-10-05T11:30:53.140544",
     "exception": false,
     "start_time": "2023-10-05T11:30:50.924325",
     "status": "completed"
    },
    "tags": []
   },
   "outputs": [],
   "source": [
    "# Calculate distance from average.\n",
    "test_data = np.array(pd.read_csv('../input/test.csv'), dtype=np.float64)"
   ]
  },
  {
   "cell_type": "code",
   "execution_count": 10,
   "id": "b04b66b6",
   "metadata": {
    "execution": {
     "iopub.execute_input": "2023-10-05T11:30:53.155750Z",
     "iopub.status.busy": "2023-10-05T11:30:53.155381Z",
     "iopub.status.idle": "2023-10-05T11:30:55.890354Z",
     "shell.execute_reply": "2023-10-05T11:30:55.889183Z"
    },
    "papermill": {
     "duration": 2.745062,
     "end_time": "2023-10-05T11:30:55.892867",
     "exception": false,
     "start_time": "2023-10-05T11:30:53.147805",
     "status": "completed"
    },
    "tags": []
   },
   "outputs": [],
   "source": [
    "# Input: Each row should have 784 (ie 28*28) numbers. Each row is one image.\n",
    "# The number of rows is the number of predictions that will be made.\n",
    "def make_predictions(input_data):\n",
    "    # Predict test data digit based on sum squared error from average\n",
    "    prediction = np.zeros(input_data.shape[0], dtype=np.int64)\n",
    "    for i_input, input_image in enumerate(input_data):\n",
    "        root_mean_square_error = np.zeros(average_digits.shape[0])\n",
    "        for i_average, average_image in enumerate(average_digits):\n",
    "            root_mean_square_error[i_average] = np.sum((average_image - input_image)**2)\n",
    "        prediction[i_input] = np.argmin(root_mean_square_error)\n",
    "    return prediction\n",
    "\n",
    "test_prediction = make_predictions(test_data)"
   ]
  },
  {
   "cell_type": "code",
   "execution_count": 11,
   "id": "1611f7ca",
   "metadata": {
    "execution": {
     "iopub.execute_input": "2023-10-05T11:30:55.905892Z",
     "iopub.status.busy": "2023-10-05T11:30:55.904790Z",
     "iopub.status.idle": "2023-10-05T11:30:56.183376Z",
     "shell.execute_reply": "2023-10-05T11:30:56.182303Z"
    },
    "papermill": {
     "duration": 0.287516,
     "end_time": "2023-10-05T11:30:56.185800",
     "exception": false,
     "start_time": "2023-10-05T11:30:55.898284",
     "status": "completed"
    },
    "tags": []
   },
   "outputs": [
    {
     "name": "stdout",
     "output_type": "stream",
     "text": [
      "Predicted label: 1\n"
     ]
    },
    {
     "data": {
      "image/png": "[encoded data removed]",
      "text/plain": [
       "<Figure size 640x480 with 1 Axes>"
      ]
     },
     "metadata": {},
     "output_type": "display_data"
    }
   ],
   "source": [
    "# Random example with test data\n",
    "sample_test_image_index = np.random.randint(low=0, high=test_data.shape[0])\n",
    "sample_prediction = test_prediction[sample_test_image_index]\n",
    "plt.imshow(np.reshape(test_data[sample_test_image_index], [28, 28]), cmap='gray_r')\n",
    "\n",
    "print(f'Predicted label: {sample_prediction}')"
   ]
  },
  {
   "cell_type": "code",
   "execution_count": 12,
   "id": "8af52e0f",
   "metadata": {
    "execution": {
     "iopub.execute_input": "2023-10-05T11:30:56.200067Z",
     "iopub.status.busy": "2023-10-05T11:30:56.199688Z",
     "iopub.status.idle": "2023-10-05T11:30:59.965211Z",
     "shell.execute_reply": "2023-10-05T11:30:59.964164Z"
    },
    "papermill": {
     "duration": 3.775298,
     "end_time": "2023-10-05T11:30:59.967326",
     "exception": false,
     "start_time": "2023-10-05T11:30:56.192028",
     "status": "completed"
    },
    "tags": []
   },
   "outputs": [
    {
     "name": "stdout",
     "output_type": "stream",
     "text": [
      "42000 42000\n"
     ]
    }
   ],
   "source": [
    "train_prediction = make_predictions(X)\n",
    "print(len(Y), len(train_prediction))"
   ]
  },
  {
   "cell_type": "code",
   "execution_count": 13,
   "id": "58ab7424",
   "metadata": {
    "execution": {
     "iopub.execute_input": "2023-10-05T11:30:59.980681Z",
     "iopub.status.busy": "2023-10-05T11:30:59.980129Z",
     "iopub.status.idle": "2023-10-05T11:30:59.986081Z",
     "shell.execute_reply": "2023-10-05T11:30:59.984821Z"
    },
    "papermill": {
     "duration": 0.015051,
     "end_time": "2023-10-05T11:30:59.988128",
     "exception": false,
     "start_time": "2023-10-05T11:30:59.973077",
     "status": "completed"
    },
    "tags": []
   },
   "outputs": [],
   "source": [
    "# !python3 -m pip show scikit-learn\n",
    "# !pip3 --version\n",
    "# !pip3 install --upgrade scikit-learn"
   ]
  },
  {
   "cell_type": "code",
   "execution_count": 14,
   "id": "3267d836",
   "metadata": {
    "execution": {
     "iopub.execute_input": "2023-10-05T11:31:00.004452Z",
     "iopub.status.busy": "2023-10-05T11:31:00.003978Z",
     "iopub.status.idle": "2023-10-05T11:31:10.594382Z",
     "shell.execute_reply": "2023-10-05T11:31:10.592756Z"
    },
    "papermill": {
     "duration": 10.603251,
     "end_time": "2023-10-05T11:31:10.597704",
     "exception": false,
     "start_time": "2023-10-05T11:30:59.994453",
     "status": "completed"
    },
    "tags": []
   },
   "outputs": [
    {
     "name": "stdout",
     "output_type": "stream",
     "text": [
      "Name: scikit-learn\r\n",
      "Version: 1.2.2\r\n",
      "Summary: A set of python modules for machine learning and data mining\r\n",
      "Home-page: http://scikit-learn.org\r\n",
      "Author: \r\n",
      "Author-email: \r\n",
      "License: new BSD\r\n",
      "Location: /opt/conda/lib/python3.10/site-packages\r\n",
      "Requires: joblib, numpy, scipy, threadpoolctl\r\n",
      "Required-by: bayesian-optimization, Boruta, category-encoders, cesium, eli5, esda, fastai, gplearn, hep-ml, hmmlearn, hpsklearn, hypertools, imbalanced-learn, kmapper, kmodes, librosa, lightgbm, lime, mapclassify, mlxtend, nilearn, pynndescent, qudida, rgf-python, scattertext, scikit-learn-intelex, scikit-optimize, scikit-plot, segregation, shap, sklearn-pandas, spopt, spreg, TPOT, tsfresh, umap-learn, vecstack, woodwork, Wordbatch, yellowbrick\r\n"
     ]
    }
   ],
   "source": [
    "!python3 -m pip show scikit-learn"
   ]
  },
  {
   "cell_type": "code",
   "execution_count": 15,
   "id": "cda1f115",
   "metadata": {
    "execution": {
     "iopub.execute_input": "2023-10-05T11:31:10.612780Z",
     "iopub.status.busy": "2023-10-05T11:31:10.612367Z",
     "iopub.status.idle": "2023-10-05T11:31:12.540450Z",
     "shell.execute_reply": "2023-10-05T11:31:12.539409Z"
    },
    "papermill": {
     "duration": 1.938979,
     "end_time": "2023-10-05T11:31:12.542834",
     "exception": false,
     "start_time": "2023-10-05T11:31:10.603855",
     "status": "completed"
    },
    "tags": []
   },
   "outputs": [
    {
     "data": {
      "image/png": "[encoded data removed]",
      "text/plain": [
       "<Figure size 640x480 with 2 Axes>"
      ]
     },
     "metadata": {},
     "output_type": "display_data"
    }
   ],
   "source": [
    "# Performance on training data.\n",
    "# This is not a good practice, but can show the \"fit\" of the model to the training data.\n",
    "from sklearn import metrics\n",
    "confusion_matrix = metrics.confusion_matrix(Y, train_prediction)\n",
    "cm_display = metrics.ConfusionMatrixDisplay(confusion_matrix = confusion_matrix)\n",
    "\n",
    "cm_display.plot()\n",
    "plt.show()"
   ]
  },
  {
   "cell_type": "markdown",
   "id": "0133162a",
   "metadata": {
    "papermill": {
     "duration": 0.006394,
     "end_time": "2023-10-05T11:31:12.556269",
     "exception": false,
     "start_time": "2023-10-05T11:31:12.549875",
     "status": "completed"
    },
    "tags": []
   },
   "source": []
  },
  {
   "cell_type": "code",
   "execution_count": 16,
   "id": "0a2c8fb7",
   "metadata": {
    "execution": {
     "iopub.execute_input": "2023-10-05T11:31:12.571501Z",
     "iopub.status.busy": "2023-10-05T11:31:12.570941Z",
     "iopub.status.idle": "2023-10-05T11:31:12.577463Z",
     "shell.execute_reply": "2023-10-05T11:31:12.576310Z"
    },
    "papermill": {
     "duration": 0.016517,
     "end_time": "2023-10-05T11:31:12.579377",
     "exception": false,
     "start_time": "2023-10-05T11:31:12.562860",
     "status": "completed"
    },
    "tags": []
   },
   "outputs": [],
   "source": [
    "submission_df = pd.DataFrame({'ImageId': np.arange(1, test_data.shape[0] + 1), 'Label': test_prediction})"
   ]
  },
  {
   "cell_type": "code",
   "execution_count": 17,
   "id": "c46b3e11",
   "metadata": {
    "execution": {
     "iopub.execute_input": "2023-10-05T11:31:12.596015Z",
     "iopub.status.busy": "2023-10-05T11:31:12.594932Z",
     "iopub.status.idle": "2023-10-05T11:31:12.635467Z",
     "shell.execute_reply": "2023-10-05T11:31:12.634107Z"
    },
    "papermill": {
     "duration": 0.051844,
     "end_time": "2023-10-05T11:31:12.638267",
     "exception": false,
     "start_time": "2023-10-05T11:31:12.586423",
     "status": "completed"
    },
    "tags": []
   },
   "outputs": [],
   "source": [
    "submission_df.to_csv('submission.csv', index=False)"
   ]
  },
  {
   "cell_type": "markdown",
   "id": "3c86c7dc",
   "metadata": {
    "papermill": {
     "duration": 0.008016,
     "end_time": "2023-10-05T11:31:12.653703",
     "exception": false,
     "start_time": "2023-10-05T11:31:12.645687",
     "status": "completed"
    },
    "tags": []
   },
   "source": []
  },
  {
   "cell_type": "markdown",
   "id": "d032c315",
   "metadata": {
    "papermill": {
     "duration": 0.006946,
     "end_time": "2023-10-05T11:31:12.668025",
     "exception": false,
     "start_time": "2023-10-05T11:31:12.661079",
     "status": "completed"
    },
    "tags": []
   },
   "source": [
    "# Useful links:\n",
    "* https://www.kaggle.com/c/digit-recognizer/data\n",
    "* https://www.geeksforgeeks.org/image-classifier-using-cnn/\n",
    "* https://towardsdatascience.com/digit-recognizer-introduction-to-kaggle-competitions-with-image-classification-task-0-995-268fa2b90e13\n",
    "* https://stackoverflow.com/questions/17197492/is-there-a-library-function-for-root-mean-square-error-rmse-in-python\n",
    "* https://opencv.org/\n",
    "* https://github.com/gsurma/digit_recognizer/blob/master/digit_recognizer.ipynb\n",
    "* https://stackabuse.com/k-nearest-neighbors-algorithm-in-python-and-scikit-learn/\n",
    "* https://www.geeksforgeeks.org/reading-image-opencv-using-python/\n",
    "* https://www.geeksforgeeks.org/python-image-classification-using-keras/\n",
    "* https://matplotlib.org/users/image_tutorial.html\n",
    "* https://www.kaggle.com/code/maevaralafi/diving-into-ipython-widgets"
   ]
  }
 ],
 "metadata": {
  "kernelspec": {
   "display_name": "Python 3",
   "language": "python",
   "name": "python3"
  },
  "language_info": {
   "codemirror_mode": {
    "name": "ipython",
    "version": 3
   },
   "file_extension": ".py",
   "mimetype": "text/x-python",
   "name": "python",
   "nbconvert_exporter": "python",
   "pygments_lexer": "ipython3",
   "version": "3.10.12"
  },
  "papermill": {
   "default_parameters": {},
   "duration": 32.206497,
   "end_time": "2023-10-05T11:31:13.298370",
   "environment_variables": {},
   "exception": null,
   "input_path": "__notebook__.ipynb",
   "output_path": "__notebook__.ipynb",
   "parameters": {},
   "start_time": "2023-10-05T11:30:41.091873",
   "version": "2.4.0"
  },
  "widgets": {
   "application/vnd.jupyter.widget-state+json": {
    "state": {
     "16f10de82a194316ad1fa83e51f64c72": {
      "model_module": "@jupyter-widgets/base",
      "model_module_version": "1.2.0",
      "model_name": "LayoutModel",
      "state": {
       "_model_module": "@jupyter-widgets/base",
       "_model_module_version": "1.2.0",
       "_model_name": "LayoutModel",
       "_view_count": null,
       "_view_module": "@jupyter-widgets/base",
       "_view_module_version": "1.2.0",
       "_view_name": "LayoutView",
       "align_content": null,
       "align_items": null,
       "align_self": null,
       "border": null,
       "bottom": null,
       "display": null,
       "flex": null,
       "flex_flow": null,
       "grid_area": null,
       "grid_auto_columns": null,
       "grid_auto_flow": null,
       "grid_auto_rows": null,
       "grid_column": null,
       "grid_gap": null,
       "grid_row": null,
       "grid_template_areas": null,
       "grid_template_columns": null,
       "grid_template_rows": null,
       "height": null,
       "justify_content": null,
       "justify_items": null,
       "left": null,
       "margin": null,
       "max_height": null,
       "max_width": null,
       "min_height": null,
       "min_width": null,
       "object_fit": null,
       "object_position": null,
       "order": null,
       "overflow": null,
       "overflow_x": null,
       "overflow_y": null,
       "padding": null,
       "right": null,
       "top": null,
       "visibility": null,
       "width": null
      }
     },
     "3caef39495414a45b454eed141599add": {
      "model_module": "@jupyter-widgets/controls",
      "model_module_version": "1.5.0",
      "model_name": "IntSliderModel",
      "state": {
       "_dom_classes": [],
       "_model_module": "@jupyter-widgets/controls",
       "_model_module_version": "1.5.0",
       "_model_name": "IntSliderModel",
       "_view_count": null,
       "_view_module": "@jupyter-widgets/controls",
       "_view_module_version": "1.5.0",
       "_view_name": "IntSliderView",
       "continuous_update": true,
       "description": "Image ID",
       "description_tooltip": null,
       "disabled": false,
       "layout": "IPY_MODEL_ef0325fe802641be9c4af33168efc320",
       "max": 784,
       "min": 0,
       "orientation": "horizontal",
       "readout": true,
       "readout_format": "d",
       "step": 1,
       "style": "IPY_MODEL_98477ecf70c44da7bd2f762bd7ae3fd3",
       "value": 0
      }
     },
     "430ebdb7b3a94d1ea1856e87ebee8447": {
      "model_module": "@jupyter-widgets/output",
      "model_module_version": "1.0.0",
      "model_name": "OutputModel",
      "state": {
       "_dom_classes": [],
       "_model_module": "@jupyter-widgets/output",
       "_model_module_version": "1.0.0",
       "_model_name": "OutputModel",
       "_view_count": null,
       "_view_module": "@jupyter-widgets/output",
       "_view_module_version": "1.0.0",
       "_view_name": "OutputView",
       "layout": "IPY_MODEL_16f10de82a194316ad1fa83e51f64c72",
       "msg_id": "",
       "outputs": []
      }
     },
     "98477ecf70c44da7bd2f762bd7ae3fd3": {
      "model_module": "@jupyter-widgets/controls",
      "model_module_version": "1.5.0",
      "model_name": "SliderStyleModel",
      "state": {
       "_model_module": "@jupyter-widgets/controls",
       "_model_module_version": "1.5.0",
       "_model_name": "SliderStyleModel",
       "_view_count": null,
       "_view_module": "@jupyter-widgets/base",
       "_view_module_version": "1.2.0",
       "_view_name": "StyleView",
       "description_width": "",
       "handle_color": null
      }
     },
     "ef0325fe802641be9c4af33168efc320": {
      "model_module": "@jupyter-widgets/base",
      "model_module_version": "1.2.0",
      "model_name": "LayoutModel",
      "state": {
       "_model_module": "@jupyter-widgets/base",
       "_model_module_version": "1.2.0",
       "_model_name": "LayoutModel",
       "_view_count": null,
       "_view_module": "@jupyter-widgets/base",
       "_view_module_version": "1.2.0",
       "_view_name": "LayoutView",
       "align_content": null,
       "align_items": null,
       "align_self": null,
       "border": null,
       "bottom": null,
       "display": null,
       "flex": null,
       "flex_flow": null,
       "grid_area": null,
       "grid_auto_columns": null,
       "grid_auto_flow": null,
       "grid_auto_rows": null,
       "grid_column": null,
       "grid_gap": null,
       "grid_row": null,
       "grid_template_areas": null,
       "grid_template_columns": null,
       "grid_template_rows": null,
       "height": null,
       "justify_content": null,
       "justify_items": null,
       "left": null,
       "margin": null,
       "max_height": null,
       "max_width": null,
       "min_height": null,
       "min_width": null,
       "object_fit": null,
       "object_position": null,
       "order": null,
       "overflow": null,
       "overflow_x": null,
       "overflow_y": null,
       "padding": null,
       "right": null,
       "top": null,
       "visibility": null,
       "width": null
      }
     }
    },
    "version_major": 2,
    "version_minor": 0
   }
  }
 },
 "nbformat": 4,
 "nbformat_minor": 5
}
